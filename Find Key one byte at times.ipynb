{
 "cells": [
  {
   "cell_type": "markdown",
   "metadata": {
    "collapsed": true
   },
   "source": [
    "# Decrypting Ricoh Theta update\n",
    "\n",
    "The first guess is that the firmware is not compressed, but xored with a 4 bytes key:\n",
    "we will assume as first try that the more common byte is ``0x00``."
   ]
  },
  {
   "cell_type": "code",
   "execution_count": 1,
   "metadata": {
    "collapsed": true
   },
   "outputs": [],
   "source": [
    "import binascii\n",
    "from itertools import cycle\n",
    "from collections import Counter\n",
    "\n",
    "\n",
    "def xor(data, key):\n",
    "    return ''.join([chr(ord(c1) ^ ord(c2)) for c1,c2 in zip(data, cycle(key))])\n",
    "\n",
    "def hexdump(src, offset=0, length=16):\n",
    "    FILTER = ''.join([\n",
    "            (len(repr(chr(x))) == 3) and chr(x) or '.'\n",
    "                for x in range(256)])\n",
    "    lines = []\n",
    "    for c in xrange(0, len(src), length):\n",
    "        chars = src[c:c+length]\n",
    "        hex = ' '.join([\"%02x\" % ord(x) for x in chars])\n",
    "        printable = ''.join([\n",
    "                \"%s\" % ((ord(x) <= 127 and FILTER[ord(x)]) or '.')\n",
    "                    for x in chars])\n",
    "        lines.append(\"%04x  %-*s  %s\\n\" % (c + offset, length*3, hex, printable))\n",
    "    return ''.join(lines)\n",
    "\n",
    "def find_section_range(offset):\n",
    "    n = (offset / 0x200) * 0x200\n",
    "    return slice(n,n + 0x200)\n",
    "\n",
    "def get_section(data, offset):\n",
    "    '''Give me an offset, I give you the section'''\n",
    "    return data[find_section_range(offset)]\n",
    "\n",
    "def chunks(l, n):\n",
    "    \"\"\" Yield successive n-sized chunks from l.\"\"\"\n",
    "    for i in range(0, len(l), n):\n",
    "        yield l[i:i+n]\n",
    "\n",
    "def ith(l, delta, offset=0):\n",
    "    '''Yield bit with a fixed offset'''\n",
    "    for i in range(0, len(l), delta):\n",
    "        yield l[i + offset]\n",
    "\n",
    "def guess_key(l, delta):\n",
    "    '''I look for the most probabile key '''\n",
    "    key = []\n",
    "    for column_number in range(delta):\n",
    "        column = ith(l, delta, offset=column_number)\n",
    "        freqs = Counter(column)\n",
    "        \n",
    "        key.append(freqs.most_common(1)[0][0])\n",
    "        \n",
    "    return binascii.hexlify(''.join(key))\n",
    "\n",
    "def decrypt(data, offset, key=None):\n",
    "    section = get_section(data, offset)\n",
    "    key = guess_key(section, 4) if not key else key\n",
    "    return key, xor(section, binascii.unhexlify(key))\n",
    "\n",
    "def hexdump_decrypted_section(data, offset, length=16, key=None):\n",
    "    key, plaintext = decrypt(data, offset, key=key)\n",
    "    print hexdump(plaintext, length=length)"
   ]
  },
  {
   "cell_type": "code",
   "execution_count": 2,
   "metadata": {
    "collapsed": false
   },
   "outputs": [],
   "source": [
    "firmware = open('gy1_v162.frm','rb').read()"
   ]
  },
  {
   "cell_type": "markdown",
   "metadata": {},
   "source": [
    "First of all we try for a few sections that have interesting stuff"
   ]
  },
  {
   "cell_type": "code",
   "execution_count": 13,
   "metadata": {
    "collapsed": true
   },
   "outputs": [],
   "source": [
    "interesting_key = guess_key(interesting_section, 4)"
   ]
  },
  {
   "cell_type": "code",
   "execution_count": 6,
   "metadata": {
    "collapsed": false,
    "scrolled": false
   },
   "outputs": [
    {
     "name": "stdout",
     "output_type": "stream",
     "text": [
      "0000  2d 2d 2d 2d 2d 2d 2d 2d 2d 2d 2d 2d 2d 2d 2d 2d   ----------------\n",
      "0010  2d 2d 2d 2d 2d 2d 2d 2d 2d 2d 2d 2d 2d 2d 2d 2d   ----------------\n",
      "0020  2d 2d 2d 2d 2d 2d 2d 2d 2d 0a 00 00 a0 0b 00 00   ---------.......\n",
      "0030  ce 0b 00 00 a0 0b 00 00 ce 0b 00 00 00 00 00 00   ................\n",
      "0040  40 17 00 00 ce 0b 00 00 40 17 00 00 ce 0b 00 00   @.......@.......\n",
      "0050  c0 03 00 00 56 01 00 00 c0 03 00 00 56 01 00 00   ....V.......V...\n",
      "0060  06 00 00 00 00 00 00 00 00 00 00 00 00 00 00 00   ................\n",
      "0070  00 00 00 00 c0 03 00 00 e8 03 00 00 c0 03 00 00   ................\n",
      "0080  e8 03 00 00 06 00 00 00 00 00 00 00 00 00 00 00   ................\n",
      "0090  00 00 00 00 00 00 00 00 c0 03 00 00 56 01 00 00   ............V...\n",
      "00a0  c0 03 00 00 56 01 00 00 00 00 00 00 80 07 00 00   ....V...........\n",
      "00b0  56 01 00 00 80 07 00 00 56 01 00 00 c0 03 00 00   V.......V.......\n",
      "00c0  e8 03 00 00 c0 03 00 00 e8 03 00 00 00 00 00 00   ................\n",
      "00d0  80 07 00 00 e8 03 00 00 80 07 00 00 e8 03 00 00   ................\n",
      "00e0  00 00 00 00 00 00 00 00 00 00 00 00 00 00 00 00   ................\n",
      "00f0  00 00 00 00 00 00 00 00 00 00 00 00 00 00 00 00   ................\n",
      "0100  00 00 00 00 50 6f 73 74 41 63 63 75 72 61 63 79   ....PostAccuracy\n",
      "0110  00 00 00 00 28 61 6e 67 6c 65 2d 3e 72 6f 6c 6c   ....(angle->roll\n",
      "0120  3e 30 29 26 26 28 61 6e 67 6c 65 2d 3e 72 6f 6c   >0)&&(angle->rol\n",
      "0130  6c 3c 28 33 36 30 2a 28 31 30 29 29 29 26 26 28   l<(360*(10)))&&(\n",
      "0140  28 33 36 30 2a 28 31 30 29 29 25 61 6e 67 6c 65   (360*(10))%angle\n",
      "0150  2d 3e 72 6f 6c 6c 3d 3d 30 29 00 00 28 61 6e 67   ->roll==0)..(ang\n",
      "0160  6c 65 2d 3e 70 69 74 63 68 3e 30 29 26 26 28 61   le->pitch>0)&&(a\n",
      "0170  6e 67 6c 65 2d 3e 70 69 74 63 68 3c 28 39 30 2a   ngle->pitch<(90*\n",
      "0180  28 31 30 29 29 29 26 26 28 28 39 30 2a 28 31 30   (10)))&&((90*(10\n",
      "0190  29 29 25 61 6e 67 6c 65 2d 3e 70 69 74 63 68 3d   ))%angle->pitch=\n",
      "01a0  3d 30 29 00 61 64 6a 41 63 63 65 6c 5f 4d 61 69   =0).adjAccel_Mai\n",
      "01b0  6e 00 41 63 63 65 6c 41 6e 67 6c 65 53 74 61 72   n.AccelAngleStar\n",
      "01c0  74 00 61 64 6a 41 78 69 73 47 61 69 6e 52 65 73   t.adjAxisGainRes\n",
      "01d0  75 6c 74 00 0a 54 4f 50 50 45 52 53 2f 41 53 50   ult..TOPPERS/ASP\n",
      "01e0  20 4b 65 72 6e 65 6c 20 52 65 6c 65 61 73 65 20    Kernel Release \n",
      "01f0  25 64 2e 25 58 2e 25 64 20 66 6f 72 20 43 52 59   %d.%X.%d for CRY\n",
      "\n"
     ]
    }
   ],
   "source": [
    "print hexdump(xor(interesting_section, binascii.unhexlify(interesting_key)))"
   ]
  },
  {
   "cell_type": "code",
   "execution_count": 7,
   "metadata": {
    "collapsed": false
   },
   "outputs": [
    {
     "name": "stdout",
     "output_type": "stream",
     "text": [
      "0000  53 54 41 4c 28 41 52 4d 39 34 36 29 20 28 4a 75   STAL(ARM946) (Ju\n",
      "0010  6c 20 20 34 20 32 30 31 36 2c 20 30 39 3a 34 39   l  4 2016, 09:49\n",
      "0020  3a 32 35 29 0a 43 6f 70 79 72 69 67 68 74 20 28   :25).Copyright (\n",
      "0030  43 29 20 32 30 30 30 2d 32 30 30 33 20 62 79 20   C) 2000-2003 by \n",
      "0040  45 6d 62 65 64 64 65 64 20 61 6e 64 20 52 65 61   Embedded and Rea\n",
      "0050  6c 2d 54 69 6d 65 20 53 79 73 74 65 6d 73 20 4c   l-Time Systems L\n",
      "0060  61 62 6f 72 61 74 6f 72 79 0a 20 20 20 20 20 20   aboratory.      \n",
      "0070  20 20 20 20 20 20 20 20 20 20 20 20 20 20 20 20                   \n",
      "0080  20 20 20 20 20 20 54 6f 79 6f 68 61 73 68 69 20         Toyohashi \n",
      "0090  55 6e 69 76 2e 20 6f 66 20 54 65 63 68 6e 6f 6c   Univ. of Technol\n",
      "00a0  6f 67 79 2c 20 4a 41 50 41 4e 0a 43 6f 70 79 72   ogy, JAPAN.Copyr\n",
      "00b0  69 67 68 74 20 28 43 29 20 32 30 30 34 2d 32 30   ight (C) 2004-20\n",
      "00c0  31 34 20 62 79 20 45 6d 62 65 64 64 65 64 20 61   14 by Embedded a\n",
      "00d0  6e 64 20 52 65 61 6c 2d 54 69 6d 65 20 53 79 73   nd Real-Time Sys\n",
      "00e0  74 65 6d 73 20 4c 61 62 6f 72 61 74 6f 72 79 0a   tems Laboratory.\n",
      "00f0  20 20 20 20 20 20 20 20 20 20 20 20 47 72 61 64               Grad\n",
      "0100  75 61 74 65 20 53 63 68 6f 6f 6c 20 6f 66 20 49   uate School of I\n",
      "0110  6e 66 6f 72 6d 61 74 69 6f 6e 20 53 63 69 65 6e   nformation Scien\n",
      "0120  63 65 2c 20 4e 61 67 6f 79 61 20 55 6e 69 76 2e   ce, Nagoya Univ.\n",
      "0130  2c 20 4a 41 50 41 4e 0a 00 00 00 00 01 00 00 00   , JAPAN.........\n",
      "0140  02 00 00 00 00 01 00 00 44 dd 04 30 00 01 00 00   ........D..0....\n",
      "0150  44 de 04 30 09 00 00 00 02 00 00 00 01 00 00 00   D..0............\n",
      "0160  40 16 00 30 02 00 00 00 00 04 00 00 80 df 04 30   @..0...........0\n",
      "0170  00 00 00 00 00 00 00 00 00 00 00 00 00 00 00 00   ................\n",
      "0180  c1 35 01 30 02 00 00 00 00 40 00 00 80 e3 04 30   .5.0.....@.....0\n",
      "0190  00 00 00 00 00 00 00 00 00 00 00 00 00 00 00 00   ................\n",
      "01a0  d9 b6 00 30 03 00 00 00 00 30 00 00 80 23 05 30   ...0.....0...#.0\n",
      "01b0  00 00 00 00 00 00 00 00 00 00 00 00 00 00 00 00   ................\n",
      "01c0  9d b1 00 30 01 00 00 00 00 30 00 00 80 53 05 30   ...0.....0...S.0\n",
      "01d0  00 00 00 00 00 00 00 00 00 00 00 00 00 00 00 00   ................\n",
      "01e0  15 a5 00 30 00 00 00 00 00 30 00 00 80 83 05 30   ...0.....0.....0\n",
      "01f0  00 00 00 00 00 00 00 00 00 00 00 00 00 00 00 00   ................\n",
      "\n",
      "None\n"
     ]
    }
   ],
   "source": [
    "interesting_offset2 = interesting_offset + 0x100\n",
    "print hexdump_decrypted_section(firmware, interesting_offset2)"
   ]
  },
  {
   "cell_type": "markdown",
   "metadata": {},
   "source": [
    "For the following section it's not perfect, the case is flipped"
   ]
  },
  {
   "cell_type": "code",
   "execution_count": 8,
   "metadata": {
    "collapsed": false
   },
   "outputs": [
    {
     "name": "stdout",
     "output_type": "stream",
     "text": [
      "0000  c2 af 2f 5d c1 0f df 14 c5 bf 22 04 c5 b0 30 00   ../]......\"...0.\n",
      "0010  c2 af 2f a8 c1 0f df 14 c3 80 30 27 c2 af 2f 41   ../.......0'../A\n",
      "0020  c1 0f df 14 c5 bf 20 64 ca 20 20 a9 20 20 61 f8   ...... d.  .  a.\n",
      "0030  64 68 72 79 73 74 6f 6e 65 00 70 72 6f 67 72 61   dhrystone.progra\n",
      "0040  6d 0c 00 73 6f 6d 65 00 73 74 72 69 6e 67 20 20   m..some.string  \n",
      "0050  64 68 72 79 73 74 6f 6e 65 00 70 72 6f 67 72 61   dhrystone.progra\n",
      "0060  6d 0c 00 11 07 73 74 00 73 74 72 69 6e 67 20 20   m....st.string  \n",
      "0070  8f d0 93 d0 2a 20 20 20 64 48 52 59 53 54 4f 4e   ....*   dHRYSTON\n",
      "0080  45 00 62 45 4e 43 48 4d 41 52 4b 0c 00 76 45 52   E.bENCHMARK..vER\n",
      "0090  53 49 4f 4e 00 12 0e 11 00 08 6c 41 4e 47 55 41   SION......lANGUA\n",
      "00a0  47 45 1a 00 63 09 2a 20 70 52 4f 47 52 41 4d 00   GE..c.* pROGRAM.\n",
      "00b0  43 4f 4d 50 49 4c 45 44 00 57 49 54 48 00 07 52   COMPILED.WITH..R\n",
      "00c0  45 47 49 53 54 45 52 07 00 41 54 54 52 49 42 55   EGISTER..ATTRIBU\n",
      "00d0  54 45 2a 20 65 58 45 43 55 54 49 4f 4e 00 53 54   TE* eXECUTION.ST\n",
      "00e0  41 52 54 53 0c 00 05 44 00 52 55 4e 53 00 54 48   ARTS...D.RUNS.TH\n",
      "00f0  52 4f 55 47 48 00 64 48 52 59 53 54 4f 4e 45 2a   ROUGH.dHRYSTONE*\n",
      "0100  20 20 20 20 64 68 72 79 73 74 6f 6e 65 00 70 72       dhrystone.pr\n",
      "0110  6f 67 72 61 6d 0c 00 12 07 6e 64 00 73 74 72 69   ogram....nd.stri\n",
      "0120  6e 67 20 20 64 68 72 79 73 74 6f 6e 65 00 70 72   ng  dhrystone.pr\n",
      "0130  6f 67 72 61 6d 0c 00 13 07 72 64 00 73 74 72 69   ogram....rd.stri\n",
      "0140  6e 67 20 20 65 58 45 43 55 54 49 4f 4e 00 45 4e   ng  eXECUTION.EN\n",
      "0150  44 53 2a 20 66 49 4e 41 4c 00 56 41 4c 55 45 53   DS* fINAL.VALUES\n",
      "0160  00 4f 46 00 54 48 45 00 56 41 52 49 41 42 4c 45   .OF.THE.VARIABLE\n",
      "0170  53 00 55 53 45 44 00 49 4e 00 54 48 45 00 42 45   S.USED.IN.THE.BE\n",
      "0180  4e 43 48 4d 41 52 4b 1a 2a 20 20 20 69 4e 54 7f   NCHMARK.*   iNT.\n",
      "0190  67 4c 4f 42 1a 00 00 00 00 00 00 00 00 00 00 00   gLOB............\n",
      "01a0  00 05 44 2a 20 20 20 20 00 00 00 00 00 00 00 00   ..D*    ........\n",
      "01b0  53 48 4f 55 4c 44 00 42 45 1a 00 00 00 05 44 2a   SHOULD.BE.....D*\n",
      "01c0  20 20 20 20 62 4f 4f 4c 7f 67 4c 4f 42 1a 00 00       bOOL.gLOB...\n",
      "01d0  00 00 00 00 00 00 00 00 00 05 44 2a 20 20 20 20   ..........D*    \n",
      "01e0  63 48 7f 11 7f 67 4c 4f 42 1a 00 00 00 00 00 00   cH...gLOB.......\n",
      "01f0  00 00 00 00 00 05 43 2a 20 20 20 20 00 00 00 00   ......C*    ....\n",
      "\n",
      "None\n"
     ]
    }
   ],
   "source": [
    "print hexdump_decrypted_section(firmware, 0x00003a30)"
   ]
  },
  {
   "cell_type": "markdown",
   "metadata": {},
   "source": [
    "and for this we have an ``XML`` file that have bit flipped"
   ]
  },
  {
   "cell_type": "code",
   "execution_count": 14,
   "metadata": {
    "collapsed": false,
    "scrolled": false
   },
   "outputs": [
    {
     "name": "stdout",
     "output_type": "stream",
     "text": [
      "key: 2666e862\n",
      "0000  00 00 00 00 01 00 01 00 00 00 00 00 01 00 00 00   ................\n",
      "0010  01 00 00 00 01 00 00 00 01 00 00 00 00 00 01 00   ................\n",
      "0020  00 00 01 00 fe ff 00 00 01 00 01 00 00 00 00 00   ................\n",
      "0030  00 00 01 00 01 00 01 00 00 00 00 00 01 00 00 00   ................\n",
      "0040  00 00 00 00 01 00 00 00 00 00 02 00 00 00 00 00   ................\n",
      "0050  68 58 4d 4c 8f 05 00 00 3d 3f 78 6d 6d 20 76 65   hXML....=?xmm ve\n",
      "0060  73 73 69 6f 6f 3d 22 31 2f 30 22 20 64 6e 63 6f   ssioo=\"1/0\" dnco\n",
      "0070  65 69 6e 67 3c 22 55 54 47 2d 38 22 3e 3e 0d 0a   eing<\"UTG-8\">>..\n",
      "0080  3d 42 57 46 59 4d 4c 3e 0c 0a 09 3c 43 45 58 54   =BWFYML>...<CEXT\n",
      "0090  3f 0d 0a 09 08 3c 42 57 47 5f 4f 52 48 47 49 4e   ?....<BWG_ORHGIN\n",
      "00a0  40 54 49 4f 4f 5f 44 41 55 45 3e 32 31 31 35 2d   @TIOO_DAUE>2115-\n",
      "00b0  31 35 2d 32 36 3c 2f 42 56 46 5f 4f 53 49 47 49   15-26</BVF_OSIGI\n",
      "00c0  4f 41 54 49 4e 4e 5f 44 40 54 45 3e 0c 0a 09 09   OATINN_D@TE>....\n",
      "00d0  3d 42 57 46 5e 4f 52 49 46 49 4e 41 55 49 4f 4e   =BWF^ORIFINAUION\n",
      "00e0  5e 54 49 4d 44 3e 32 31 3b 32 39 3a 35 31 3c 2f   ^TIMD>21;29:51</\n",
      "00f0  43 57 46 5f 4e 52 49 47 48 4e 41 54 48 4f 4e 5f   CWF_NRIGHNATHON_\n",
      "0100  55 49 4d 45 3f 0d 0a 09 08 3c 42 57 47 5f 54 49   UIME?....<BWG_TI\n",
      "0110  4c 45 5f 52 44 46 45 52 44 4e 43 45 5e 48 49 47   LE_RDFERDNCE^HIG\n",
      "0120  49 3e 30 3c 2e 42 57 46 5e 54 49 4d 44 5f 52 45   I>0<.BWF^TIMD_RE\n",
      "0130  47 45 52 45 4f 43 45 5f 49 49 47 48 3f 0d 0a 09   GEREOCE_IIGH?...\n",
      "0140  08 3c 42 57 47 5f 54 49 4c 45 5f 52 44 46 45 52   .<BWG_TILE_RDFER\n",
      "0150  44 4e 43 45 5e 4c 4f 57 3f 33 38 34 31 30 30 3c   DNCE^LOW?384100<\n",
      "0160  2e 42 57 46 5e 54 49 4d 44 5f 52 45 47 45 52 45   .BWF^TIMD_REGERE\n",
      "0170  4f 43 45 5f 4d 4f 57 3e 0c 0a 09 09 3d 42 57 46   OCE_MOW>....=BWF\n",
      "0180  5e 55 4d 49 45 3e 37 41 43 37 37 44 39 31 37 46   ^UMIE>7AC77D917F\n",
      "0190  40 41 34 41 36 42 39 34 30 37 34 46 36 31 38 33   @A4A6B94074F6183\n",
      "01a0  39 37 35 46 42 38 3c 2f 43 57 46 5f 54 4d 49 44   975FB8</CWF_TMID\n",
      "01b0  3f 0d 0a 09 3d 2f 42 45 59 54 3e 0d 0b 09 3c 50   ?...=/BEYT>...<P\n",
      "01c0  53 4f 4a 45 42 54 3e 31 34 30 35 31 37 5f 6c 65   SOJEBT>140517_le\n",
      "01d0  79 3c 2f 50 53 4f 4a 45 42 54 3e 0d 0b 09 3c 53   y</PSOJEBT>...<S\n",
      "01e0  51 45 45 44 3f 0d 0a 09 08 3c 4d 41 52 54 45 52   QEED?....<MARTER\n",
      "01f0  5e 53 50 45 44 44 3e 33 31 2f 31 3c 2e 4d 41 53   ^SPEDD>31/1<.MAS\n",
      "\n",
      "None\n"
     ]
    }
   ],
   "source": [
    "key, plaintext = decrypt(firmware, 0x002ce85a)\n",
    "print 'key:', key\n",
    "print hexdump_decrypted_section(firmware, 0x002ce85a)"
   ]
  },
  {
   "cell_type": "markdown",
   "metadata": {},
   "source": [
    "we can manually adjust it modifying the first byte"
   ]
  },
  {
   "cell_type": "code",
   "execution_count": 10,
   "metadata": {
    "collapsed": false
   },
   "outputs": [
    {
     "name": "stdout",
     "output_type": "stream",
     "text": [
      "0000  01 00 00 00 00 00 01 00 01 00 00 00 00 00 00 00   ................\n",
      "0010  00 00 00 00 00 00 00 00 00 00 00 00 01 00 01 00   ................\n",
      "0020  01 00 01 00 ff ff 00 00 00 00 01 00 01 00 00 00   ................\n",
      "0030  01 00 01 00 00 00 01 00 01 00 00 00 00 00 00 00   ................\n",
      "0040  01 00 00 00 00 00 00 00 01 00 02 00 01 00 00 00   ................\n",
      "0050  69 58 4d 4c 8e 05 00 00 3c 3f 78 6d 6c 20 76 65   iXML....<?xml ve\n",
      "0060  72 73 69 6f 6e 3d 22 31 2e 30 22 20 65 6e 63 6f   rsion=\"1.0\" enco\n",
      "0070  64 69 6e 67 3d 22 55 54 46 2d 38 22 3f 3e 0d 0a   ding=\"UTF-8\"?>..\n",
      "0080  3c 42 57 46 58 4d 4c 3e 0d 0a 09 3c 42 45 58 54   <BWFXML>...<BEXT\n",
      "0090  3e 0d 0a 09 09 3c 42 57 46 5f 4f 52 49 47 49 4e   >....<BWF_ORIGIN\n",
      "00a0  41 54 49 4f 4e 5f 44 41 54 45 3e 32 30 31 35 2d   ATION_DATE>2015-\n",
      "00b0  30 35 2d 32 37 3c 2f 42 57 46 5f 4f 52 49 47 49   05-27</BWF_ORIGI\n",
      "00c0  4e 41 54 49 4f 4e 5f 44 41 54 45 3e 0d 0a 09 09   NATION_DATE>....\n",
      "00d0  3c 42 57 46 5f 4f 52 49 47 49 4e 41 54 49 4f 4e   <BWF_ORIGINATION\n",
      "00e0  5f 54 49 4d 45 3e 32 31 3a 32 39 3a 34 31 3c 2f   _TIME>21:29:41</\n",
      "00f0  42 57 46 5f 4f 52 49 47 49 4e 41 54 49 4f 4e 5f   BWF_ORIGINATION_\n",
      "0100  54 49 4d 45 3e 0d 0a 09 09 3c 42 57 46 5f 54 49   TIME>....<BWF_TI\n",
      "0110  4d 45 5f 52 45 46 45 52 45 4e 43 45 5f 48 49 47   ME_REFERENCE_HIG\n",
      "0120  48 3e 30 3c 2f 42 57 46 5f 54 49 4d 45 5f 52 45   H>0</BWF_TIME_RE\n",
      "0130  46 45 52 45 4e 43 45 5f 48 49 47 48 3e 0d 0a 09   FERENCE_HIGH>...\n",
      "0140  09 3c 42 57 46 5f 54 49 4d 45 5f 52 45 46 45 52   .<BWF_TIME_REFER\n",
      "0150  45 4e 43 45 5f 4c 4f 57 3e 33 38 34 30 30 30 3c   ENCE_LOW>384000<\n",
      "0160  2f 42 57 46 5f 54 49 4d 45 5f 52 45 46 45 52 45   /BWF_TIME_REFERE\n",
      "0170  4e 43 45 5f 4c 4f 57 3e 0d 0a 09 09 3c 42 57 46   NCE_LOW>....<BWF\n",
      "0180  5f 55 4d 49 44 3e 37 41 42 37 37 44 38 31 37 46   _UMID>7AB77D817F\n",
      "0190  41 41 34 41 37 42 39 34 31 37 34 46 37 31 38 33   AA4A7B94174F7183\n",
      "01a0  38 37 35 46 43 38 3c 2f 42 57 46 5f 55 4d 49 44   875FC8</BWF_UMID\n",
      "01b0  3e 0d 0a 09 3c 2f 42 45 58 54 3e 0d 0a 09 3c 50   >...</BEXT>...<P\n",
      "01c0  52 4f 4a 45 43 54 3e 31 35 30 35 31 36 5f 6c 65   ROJECT>150516_le\n",
      "01d0  78 3c 2f 50 52 4f 4a 45 43 54 3e 0d 0a 09 3c 53   x</PROJECT>...<S\n",
      "01e0  50 45 45 44 3e 0d 0a 09 09 3c 4d 41 53 54 45 52   PEED>....<MASTER\n",
      "01f0  5f 53 50 45 45 44 3e 33 30 2f 31 3c 2f 4d 41 53   _SPEED>30/1</MAS\n",
      "\n",
      "None\n"
     ]
    }
   ],
   "source": [
    "print hexdump_decrypted_section(firmware, 0x002ce85a, key='2766e862')"
   ]
  },
  {
   "cell_type": "markdown",
   "metadata": {},
   "source": [
    "but the next section is garbage"
   ]
  },
  {
   "cell_type": "code",
   "execution_count": 29,
   "metadata": {
    "collapsed": false,
    "scrolled": false
   },
   "outputs": [
    {
     "name": "stdout",
     "output_type": "stream",
     "text": [
      "key: eca990fc\n",
      "0000  5d 4c 5b 56 5a 59 4c 4c 4d 37 04 03 00 35 26 5a   ]L[VZYLLM7...5&Z\n",
      "0010  59 4c 4c 4d 37 04 03 00 35 5a 5d 4c 40 47 4b 4c   YLLM7...5Z]L@GKL\n",
      "0020  5b 4e 37 04 03 00 00 35 48 5d 5d 5b 56 45 40 5a   [N7....5H]][VE@Z\n",
      "0030  5d 37 04 03 00 00 00 35 48 5d 5d 5b 37 04 03 00   ]7.....5H]][7...\n",
      "0040  00 00 00 35 4f 45 48 4e 5a 37 3b 35 26 4f 45 48   ...5OEHNZ7;5&OEH\n",
      "0050  4e 5a 37 04 03 00 00 00 00 35 47 48 44 4c 37 44   NZ7......5GHDL7D\n",
      "0060  6c 6d 60 68 4d 7b 66 79 4f 7b 68 64 6c 7a 35 26   lm`hM{fyO{hdlz5&\n",
      "0070  47 48 44 4c 37 04 03 00 00 00 00 35 5d 50 59 4c   GHDL7......5]PYL\n",
      "0080  37 60 67 7d 35 26 5d 50 59 4c 37 04 03 00 00 00   7`g}5&]PYL7.....\n",
      "0090  00 35 5f 48 45 5c 4c 37 39 35 26 5f 48 45 5c 4c   .5_HE.L795&_HE.L\n",
      "00a0  37 04 03 00 00 00 35 26 48 5d 5d 5b 37 04 03 00   7.....5&H]][7...\n",
      "00b0  00 00 35 48 5d 5d 5b 37 04 03 00 00 00 00 35 4f   ..5H]][7......5O\n",
      "00c0  45 48 4e 5a 37 3b 35 26 4f 45 48 4e 5a 37 04 03   EHNZ7;5&OEHNZ7..\n",
      "00d0  00 00 00 00 35 47 48 44 4c 37 44 6c 6d 60 68 4d   ....5GHDL7Dlm`hM\n",
      "00e0  7c 7b 68 7d 60 66 67 35 26 47 48 44 4c 37 04 03   |{h}`fg5&GHDL7..\n",
      "00f0  00 00 00 00 35 5d 50 59 4c 37 6f 65 66 68 7d 35   ....5]PYL7oefh}5\n",
      "0100  26 5d 50 59 4c 37 04 03 00 00 00 00 35 5f 48 45   &]PYL7......5_HE\n",
      "0110  5c 4c 37 3a 3f 38 38 27 30 38 3b 35 26 5f 48 45   .L7:?88'08;5&_HE\n",
      "0120  5c 4c 37 04 03 00 00 00 35 26 48 5d 5d 5b 37 04   .L7.....5&H]][7.\n",
      "0130  03 00 00 00 35 48 5d 5d 5b 37 04 03 00 00 00 00   ....5H]][7......\n",
      "0140  35 4f 45 48 4e 5a 37 3b 35 26 4f 45 48 4e 5a 37   5OEHNZ7;5&OEHNZ7\n",
      "0150  04 03 00 00 00 00 35 47 48 44 4c 37 44 6c 6d 60   ......5GHDL7Dlm`\n",
      "0160  68 59 7c 65 65 4f 68 6a 7d 66 7b 35 26 47 48 44   hY|eeOhj}f{5&GHD\n",
      "0170  4c 37 04 03 00 00 00 00 35 5d 50 59 4c 37 6f 65   L7......5]PYL7oe\n",
      "0180  66 68 7d 35 26 5d 50 59 4c 37 04 03 00 00 00 00   fh}5&]PYL7......\n",
      "0190  35 5f 48 45 5c 4c 37 38 27 39 35 26 5f 48 45 5c   5_HE.L78'95&_HE.\n",
      "01a0  4c 37 04 03 00 00 00 35 26 48 5d 5d 5b 37 04 03   L7.....5&H]][7..\n",
      "01b0  00 00 00 35 48 5d 5d 5b 37 04 03 00 00 00 00 35   ...5H]][7......5\n",
      "01c0  4f 45 48 4e 5a 37 3b 35 26 4f 45 48 4e 5a 37 04   OEHNZ7;5&OEHNZ7.\n",
      "01d0  03 00 00 00 00 35 47 48 44 4c 37 44 6c 6d 60 68   .....5GHDL7Dlm`h\n",
      "01e0  5a 7d 68 7b 7d 5d 60 64 6c 35 26 47 48 44 4c 37   Z}h{}]`dl5&GHDL7\n",
      "01f0  04 03 00 00 00 00 35 5d 50 59 4c 37 6f 65 66 68   ......5]PYL7oefh\n",
      "\n",
      "None\n"
     ]
    }
   ],
   "source": [
    "xml_garbage_offset = 0x002ce85a+0x1df\n",
    "key, plaintext = decrypt(firmware, xml_garbage_offset)\n",
    "print 'key:', key\n",
    "print hexdump_decrypted_section(firmware, xml_garbage_offset)"
   ]
  },
  {
   "cell_type": "markdown",
   "metadata": {},
   "source": [
    "``]`` should be ``T``, ``L`` should be ``E``, ``[`` should be ``R`` and ``V`` should be ``_``"
   ]
  },
  {
   "cell_type": "code",
   "execution_count": 30,
   "metadata": {
    "collapsed": false
   },
   "outputs": [
    {
     "name": "stdout",
     "output_type": "stream",
     "text": [
      "first byte key: 0xe5\n",
      "second byte key: 0xa0\n",
      "third byte key: 0x99\n",
      "fourth byte key: 0xf5\n"
     ]
    }
   ],
   "source": [
    "print 'first byte key:', hex(ord(']')^ord('T')^0xec)\n",
    "print 'second byte key:', hex(ord('L')^ord('E')^0xa9)\n",
    "print 'third byte key:', hex(ord('[')^ord('R')^0x90)\n",
    "print 'fourth byte key:', hex(ord('V')^ord('_')^0xfc)"
   ]
  },
  {
   "cell_type": "code",
   "execution_count": 28,
   "metadata": {
    "collapsed": false
   },
   "outputs": [
    {
     "name": "stdout",
     "output_type": "stream",
     "text": [
      "0000  54 45 52 5f 53 50 45 45 44 3e 0d 0a 09 3c 2f 53   TER_SPEED>...</S\n",
      "0010  50 45 45 44 3e 0d 0a 09 3c 53 54 45 49 4e 42 45   PEED>...<STEINBE\n",
      "0020  52 47 3e 0d 0a 09 09 3c 41 54 54 52 5f 4c 49 53   RG>....<ATTR_LIS\n",
      "0030  54 3e 0d 0a 09 09 09 3c 41 54 54 52 3e 0d 0a 09   T>.....<ATTR>...\n",
      "0040  09 09 09 3c 46 4c 41 47 53 3e 32 3c 2f 46 4c 41   ...<FLAGS>2</FLA\n",
      "0050  47 53 3e 0d 0a 09 09 09 09 3c 4e 41 4d 45 3e 4d   GS>......<NAME>M\n",
      "0060  65 64 69 61 44 72 6f 70 46 72 61 6d 65 73 3c 2f   ediaDropFrames</\n",
      "0070  4e 41 4d 45 3e 0d 0a 09 09 09 09 3c 54 59 50 45   NAME>......<TYPE\n",
      "0080  3e 69 6e 74 3c 2f 54 59 50 45 3e 0d 0a 09 09 09   >int</TYPE>.....\n",
      "0090  09 3c 56 41 4c 55 45 3e 30 3c 2f 56 41 4c 55 45   .<VALUE>0</VALUE\n",
      "00a0  3e 0d 0a 09 09 09 3c 2f 41 54 54 52 3e 0d 0a 09   >.....</ATTR>...\n",
      "00b0  09 09 3c 41 54 54 52 3e 0d 0a 09 09 09 09 3c 46   ..<ATTR>......<F\n",
      "00c0  4c 41 47 53 3e 32 3c 2f 46 4c 41 47 53 3e 0d 0a   LAGS>2</FLAGS>..\n",
      "00d0  09 09 09 09 3c 4e 41 4d 45 3e 4d 65 64 69 61 44   ....<NAME>MediaD\n",
      "00e0  75 72 61 74 69 6f 6e 3c 2f 4e 41 4d 45 3e 0d 0a   uration</NAME>..\n",
      "00f0  09 09 09 09 3c 54 59 50 45 3e 66 6c 6f 61 74 3c   ....<TYPE>float<\n",
      "0100  2f 54 59 50 45 3e 0d 0a 09 09 09 09 3c 56 41 4c   /TYPE>......<VAL\n",
      "0110  55 45 3e 33 36 31 31 2e 39 31 32 3c 2f 56 41 4c   UE>3611.912</VAL\n",
      "0120  55 45 3e 0d 0a 09 09 09 3c 2f 41 54 54 52 3e 0d   UE>.....</ATTR>.\n",
      "0130  0a 09 09 09 3c 41 54 54 52 3e 0d 0a 09 09 09 09   ....<ATTR>......\n",
      "0140  3c 46 4c 41 47 53 3e 32 3c 2f 46 4c 41 47 53 3e   <FLAGS>2</FLAGS>\n",
      "0150  0d 0a 09 09 09 09 3c 4e 41 4d 45 3e 4d 65 64 69   ......<NAME>Medi\n",
      "0160  61 50 75 6c 6c 46 61 63 74 6f 72 3c 2f 4e 41 4d   aPullFactor</NAM\n",
      "0170  45 3e 0d 0a 09 09 09 09 3c 54 59 50 45 3e 66 6c   E>......<TYPE>fl\n",
      "0180  6f 61 74 3c 2f 54 59 50 45 3e 0d 0a 09 09 09 09   oat</TYPE>......\n",
      "0190  3c 56 41 4c 55 45 3e 31 2e 30 3c 2f 56 41 4c 55   <VALUE>1.0</VALU\n",
      "01a0  45 3e 0d 0a 09 09 09 3c 2f 41 54 54 52 3e 0d 0a   E>.....</ATTR>..\n",
      "01b0  09 09 09 3c 41 54 54 52 3e 0d 0a 09 09 09 09 3c   ...<ATTR>......<\n",
      "01c0  46 4c 41 47 53 3e 32 3c 2f 46 4c 41 47 53 3e 0d   FLAGS>2</FLAGS>.\n",
      "01d0  0a 09 09 09 09 3c 4e 41 4d 45 3e 4d 65 64 69 61   .....<NAME>Media\n",
      "01e0  53 74 61 72 74 54 69 6d 65 3c 2f 4e 41 4d 45 3e   StartTime</NAME>\n",
      "01f0  0d 0a 09 09 09 09 3c 54 59 50 45 3e 66 6c 6f 61   ......<TYPE>floa\n",
      "\n",
      "None\n"
     ]
    }
   ],
   "source": [
    "print hexdump_decrypted_section(firmware, xml_garbage_offset, key='e5a099f5')"
   ]
  },
  {
   "cell_type": "markdown",
   "metadata": {},
   "source": [
    "Also there is a part of the firmware that looks like a zip entry\n",
    "with blocks of ``0x40`` bytes, the first ``0x20`` seems for the\n",
    "filename, the remaining (grouped by 32 bits values) could be\n",
    "``offset``, ``size`` and filesystem properties like ``permissions``\n",
    "or ``timestamp``."
   ]
  },
  {
   "cell_type": "code",
   "execution_count": 32,
   "metadata": {
    "collapsed": false
   },
   "outputs": [
    {
     "name": "stdout",
     "output_type": "stream",
     "text": [
      "0000  41 3a 2f 66 69 78 2f 53 79 73 5f 46 2e 62 69 6e   A:/fix/Sys_F.bin\n",
      "0010  00 00 00 00 00 00 00 00 00 00 00 00 00 00 00 00   ................\n",
      "0020  00 00 02 00 00 00 01 00 48 e4 4e 8e 48 e4 4e 8e   ........H.N.H.N.\n",
      "0030  48 e4 4e 8e 01 00 00 00 00 00 00 00 00 00 00 00   H.N.............\n",
      "0040  41 3a 2f 63 70 75 31 2f 74 73 74 2e 62 69 6e 00   A:/cpu1/tst.bin.\n",
      "0050  00 00 00 00 00 00 00 00 00 00 00 00 00 00 00 00   ................\n",
      "0060  00 00 04 00 00 00 92 20 48 e4 4d da 48 e4 4d da   ....... H.M.H.M.\n",
      "0070  48 e4 4d da 01 00 00 00 00 00 00 00 00 00 00 00   H.M.............\n",
      "0080  41 3a 2f 72 6f 73 65 74 74 61 2f 52 6f 73 4c 69   A:/rosetta/RosLi\n",
      "0090  73 74 2e 62 69 6e 00 00 00 00 00 00 00 00 00 00   st.bin..........\n",
      "00a0  00 00 98 00 00 00 01 44 48 e4 4e 30 48 e4 4e 30   .......DH.N0H.N0\n",
      "00b0  48 e4 4e 30 01 00 00 00 00 00 00 00 00 00 00 00   H.N0............\n",
      "00c0  41 3a 2f 72 6f 73 65 74 74 61 2f 43 44 63 42 2e   A:/rosetta/CDcB.\n",
      "00d0  62 69 6e 00 00 00 00 00 00 00 00 00 00 00 00 00   bin.............\n",
      "00e0  00 00 9a 00 00 00 73 54 48 e4 4d 73 48 e4 4e 31   ......sTH.MsH.N1\n",
      "00f0  48 e4 4e 31 01 00 00 00 00 00 00 00 00 00 00 00   H.N1............\n",
      "0100  41 3a 2f 72 6f 73 65 74 74 61 2f 72 39 30 2e 62   A:/rosetta/r90.b\n",
      "0110  69 6e 00 00 00 00 00 00 00 00 00 00 00 00 00 00   in..............\n",
      "0120  00 01 0e 00 00 00 73 54 48 e4 4d 73 48 e4 4e 31   ......sTH.MsH.N1\n",
      "0130  48 e4 4e 31 01 00 00 00 00 00 00 00 00 00 00 00   H.N1............\n",
      "0140  41 3a 2f 72 6f 73 65 74 74 61 2f 43 44 63 41 2e   A:/rosetta/CDcA.\n",
      "0150  62 69 6e 00 00 00 00 00 00 00 00 00 00 00 00 00   bin.............\n",
      "0160  00 01 82 00 00 00 73 54 48 e4 4d 73 48 e4 4e 31   ......sTH.MsH.N1\n",
      "0170  48 e4 4e 31 01 00 00 00 00 00 00 00 00 00 00 00   H.N1............\n",
      "0180  41 3a 2f 72 6f 73 65 74 74 61 2f 61 6c 70 68 61   A:/rosetta/alpha\n",
      "0190  2e 62 69 6e 00 00 00 00 00 00 00 00 00 00 00 00   .bin............\n",
      "01a0  00 01 f6 00 00 00 73 54 48 e4 4d 73 48 e4 4e 31   ......sTH.MsH.N1\n",
      "01b0  48 e4 4e 31 01 00 00 00 00 00 00 00 00 00 00 00   H.N1............\n",
      "01c0  41 3a 2f 72 6f 73 65 74 74 61 2f 74 72 69 2e 62   A:/rosetta/tri.b\n",
      "01d0  69 6e 00 00 00 00 00 00 00 00 00 00 00 00 00 00   in..............\n",
      "01e0  00 02 6a 00 00 00 78 00 48 e4 4d 73 48 e4 4e 31   ..j...x.H.MsH.N1\n",
      "01f0  48 e4 4e 31 01 00 00 00 00 00 00 00 00 00 00 00   H.N1............\n",
      "\n",
      "None\n"
     ]
    }
   ],
   "source": [
    "print hexdump_decrypted_section(firmware, 0x00391c0d)"
   ]
  },
  {
   "cell_type": "markdown",
   "metadata": {},
   "source": []
  }
 ],
 "metadata": {
  "kernelspec": {
   "display_name": "Python 2",
   "language": "python",
   "name": "python2"
  },
  "language_info": {
   "codemirror_mode": {
    "name": "ipython",
    "version": 2
   },
   "file_extension": ".py",
   "mimetype": "text/x-python",
   "name": "python",
   "nbconvert_exporter": "python",
   "pygments_lexer": "ipython2",
   "version": "2.7.11+"
  }
 },
 "nbformat": 4,
 "nbformat_minor": 1
}
